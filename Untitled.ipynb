{
 "cells": [
  {
   "cell_type": "code",
   "execution_count": 62,
   "id": "87962bc8",
   "metadata": {},
   "outputs": [
    {
     "name": "stdout",
     "output_type": "stream",
     "text": [
      "La conversion du fichier est terminée, 104647 lignes modifier,  Veuillez consulter le fichier de sortie: EXTRACT1.csv\n",
      "La conversion du fichier est terminée, 104647 lignes modifier,  Veuillez consulter le fichier de sortie: EXTRACT2.csv\n",
      "La conversion du fichier est terminée, 104647 lignes modifier,  Veuillez consulter le fichier de sortie: EXTRACT3.csv\n"
     ]
    }
   ],
   "source": [
    "def replace_separators_extract1(string):\n",
    "    string=string.replace(',','')\n",
    "    string=string.replace('\"','')\n",
    "    string=string.replace('    ',' ')\n",
    "    new_string = 'C-'+string.replace(';', ',', 8)\n",
    "    new_string = new_string.rsplit(';', 3)\n",
    "    new_string = ','.join(new_string)\n",
    "    new_string = new_string.replace('                            1                                  ',',001,',1)\n",
    "    return new_string.replace('\\n',',     \\n')\n",
    "\n",
    "def replace_separators_extract2(string):\n",
    "    new_string = 'C-'+string.replace(';', ',')\n",
    "    new_string = new_string.replace('                            1                                  ',',001,',1)\n",
    "    new_string = new_string.replace('                                ','',1)\n",
    "    return new_string.replace(';',',')\n",
    "\n",
    "def replace_separators_extract3(string):\n",
    "    new_string = 'C-'+string.replace(';', ',')\n",
    "    new_string = new_string.replace('                            1                                  ',',001,',1)\n",
    "    new_string = new_string.replace('                                ','',1)\n",
    "    new_string = new_string.replace(';',',')\n",
    "    indxs = new_string.find('MAD')+3\n",
    "    return new_string[:indxs]+'\\n'\n",
    "\n",
    "def handle_file(input_file,output_file):\n",
    "    # Ouvrir le fichier d'entrée en mode lecture\n",
    "    with open(input_file, 'r') as file:\n",
    "        lines = file.readlines()\n",
    "    # Appliquer la fonction replace_separators à chaque ligne\n",
    "    if input_file==\"EXTRACT1\":\n",
    "        modified_lines = [replace_separators_extract1(line) for line in lines]\n",
    "    if input_file==\"EXTRACT2\":\n",
    "        modified_lines = [replace_separators_extract2(line) for line in lines]\n",
    "    if input_file==\"EXTRACT3\":\n",
    "        modified_lines = [replace_separators_extract3(line) for line in lines]\n",
    "    # Ouvrir le fichier de sortie en mode écriture\n",
    "    with open(output_file, 'w') as file:\n",
    "        file.writelines(modified_lines)\n",
    "    print(f\"La conversion du fichier est terminée, {len(modified_lines)} lignes modifier,  Veuillez consulter le fichier de sortie: {output_file}\")\n",
    "    \n",
    "# Nom du fichier d'entrée et de sortie\n",
    "input_file = \"EXTRACT1\"\n",
    "output_file = \"EXTRACT1.csv\"\n",
    "handle_file(input_file,output_file)\n",
    "\n",
    "# Nom du fichier d'entrée et de sortie\n",
    "input_file = \"EXTRACT2\"\n",
    "output_file = \"EXTRACT2.csv\"\n",
    "handle_file(input_file,output_file)\n",
    "\n",
    "# Nom du fichier d'entrée et de sortie\n",
    "input_file = \"EXTRACT3\"\n",
    "output_file = \"EXTRACT3.csv\"\n",
    "handle_file(input_file,output_file)"
   ]
  }
 ],
 "metadata": {
  "kernelspec": {
   "display_name": "Python 3 (ipykernel)",
   "language": "python",
   "name": "python3"
  },
  "language_info": {
   "codemirror_mode": {
    "name": "ipython",
    "version": 3
   },
   "file_extension": ".py",
   "mimetype": "text/x-python",
   "name": "python",
   "nbconvert_exporter": "python",
   "pygments_lexer": "ipython3",
   "version": "3.10.9"
  }
 },
 "nbformat": 4,
 "nbformat_minor": 5
}
